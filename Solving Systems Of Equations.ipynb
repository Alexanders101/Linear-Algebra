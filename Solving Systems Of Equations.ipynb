{
 "cells": [
  {
   "cell_type": "markdown",
   "metadata": {},
   "source": [
    "#Solving Systems of Linear Equations"
   ]
  },
  {
   "cell_type": "code",
   "execution_count": 1,
   "metadata": {
    "collapsed": true
   },
   "outputs": [],
   "source": [
    "%matplotlib inline\n",
    "from utils import *"
   ]
  },
  {
   "cell_type": "markdown",
   "metadata": {},
   "source": [
    "## Recognzing How Many Solutions a System of Equations Will Have.\n",
    "\n",
    "In order for a system of equations to have a solution, the amount of unknown variables the system has must be greater than or equal to the amount of equations you the system has. The following is an example of a system with exactly one soutlion:\n",
    "\n",
    "$$\\left\\{\\begin{matrix}\n",
    "2x+3y+z=14\\\\ \n",
    "4x-y+5z=10\\\\ \n",
    "x+2y-3z=5\n",
    "\\end{matrix}\\right.$$\n",
    "\n",
    "However, sometimes a system can have many or infinite amount of solutions. Furthermore, a system has no solution when 2 or more of the equations are multiples of one another \n",
    "\n",
    "$$\\left\\{\\begin{matrix}\n",
    "2x + y = 5\\\\ \n",
    "6x+3y=1\n",
    "\\end{matrix}\\right.$$\n",
    "\n",
    "## Expressing Systms of Equations in Matrix Form\n",
    "\n",
    "We can write the above system of equations by writing it in the vector equation $Ax=b$, Where $A$ is a matrix holding the coefficiants of each variable of the system, x is the vector holding the variables, and b is a vector holding the solutions. For the above system of equations, the matrix equation form would look like this:\n",
    "\n",
    "$$\\begin{bmatrix}\n",
    "2 & 3 & 1\\\\ \n",
    "4 & -1 & 5\\\\ \n",
    "1 & 2 & -3 \\end{bmatrix} \\begin{bmatrix}\n",
    "x\\\\ \n",
    "y\\\\ \n",
    "z\n",
    "\\end{bmatrix} = \\begin{bmatrix}\n",
    "14\\\\ \n",
    "10\\\\ \n",
    "5\n",
    "\\end{bmatrix}$$\n",
    "\n",
    "We can use the matrix A in order to solve our system in various different ways. One way is to emply the inverse of the matrix.\n",
    "\n",
    "## Using Inverses to solve systems\n",
    "\n",
    "By using the inverse of our coefficiant matrix $A$, we can find the solution to our system of equations using this formula:\n",
    "\n",
    "$$x = A^{-1}*b$$"
   ]
  },
  {
   "cell_type": "code",
   "execution_count": 15,
   "metadata": {
    "collapsed": true
   },
   "outputs": [],
   "source": [
    "x, y, z = symbol('x y z')"
   ]
  },
  {
   "cell_type": "code",
   "execution_count": 9,
   "metadata": {
    "collapsed": false
   },
   "outputs": [
    {
     "data": {
      "image/png": "[encoded data removed]",
      "text/latex": [
       "$$A = \\left[\\begin{matrix}2 & 3 & 1\\\\4 & -1 & 5\\\\1 & 2 & -3\\end{matrix}\\right]$$"
      ],
      "text/plain": [
       "A = ⎡2  3   1 ⎤\n",
       "    ⎢         ⎥\n",
       "    ⎢4  -1  5 ⎥\n",
       "    ⎢         ⎥\n",
       "    ⎣1  2   -3⎦"
      ]
     },
     "execution_count": 9,
     "metadata": {},
     "output_type": "execute_result"
    }
   ],
   "source": [
    "A = matrix([[2,3,1],\n",
    "            [4, -1, 5],\n",
    "            [1,2,-3]])\n",
    "mat_print(A, 'A')"
   ]
  },
  {
   "cell_type": "code",
   "execution_count": 10,
   "metadata": {
    "collapsed": false
   },
   "outputs": [
    {
     "data": {
      "image/png": "[encoded data removed]",
      "text/latex": [
       "$$b = \\left[\\begin{matrix}14\\\\10\\\\5\\end{matrix}\\right]$$"
      ],
      "text/plain": [
       "b = ⎡14⎤\n",
       "    ⎢  ⎥\n",
       "    ⎢10⎥\n",
       "    ⎢  ⎥\n",
       "    ⎣5 ⎦"
      ]
     },
     "execution_count": 10,
     "metadata": {},
     "output_type": "execute_result"
    }
   ],
   "source": [
    "b = matrix([[14],\n",
    "           [10],\n",
    "           [5]])\n",
    "mat_print(b, 'b')"
   ]
  },
  {
   "cell_type": "code",
   "execution_count": 11,
   "metadata": {
    "collapsed": false
   },
   "outputs": [
    {
     "data": {
      "image/png": "[encoded data removed]",
      "text/latex": [
       "$$A^{{-1}} = \\left[\\begin{matrix}-0.152173913043478 & 0.239130434782609 & 0.347826086956522\\\\0.369565217391304 & -0.152173913043478 & -0.130434782608696\\\\0.195652173913043 & -0.0217391304347826 & -0.304347826086957\\end{matrix}\\right]$$"
      ],
      "text/plain": [
       "A__{-1} = ⎡-0.152173913043478   0.239130434782609   0.347826086956522 ⎤\n",
       "          ⎢                                                           ⎥\n",
       "          ⎢0.369565217391304   -0.152173913043478   -0.130434782608696⎥\n",
       "          ⎢                                                           ⎥\n",
       "          ⎣0.195652173913043   -0.0217391304347826  -0.304347826086957⎦"
      ]
     },
     "execution_count": 11,
     "metadata": {},
     "output_type": "execute_result"
    }
   ],
   "source": [
    "mat_print(linalg.inv(A), 'A^{-1}')"
   ]
  },
  {
   "cell_type": "code",
   "execution_count": 23,
   "metadata": {
    "collapsed": false
   },
   "outputs": [
    {
     "data": {
      "image/png": "[encoded data removed]",
      "text/latex": [
       "$$\\left[\\begin{matrix}x\\\\y\\\\z\\end{matrix}\\right] = A b$$"
      ],
      "text/plain": [
       "⎡x⎤ = A⋅b\n",
       "⎢ ⎥      \n",
       "⎢y⎥      \n",
       "⎢ ⎥      \n",
       "⎣z⎦      "
      ]
     },
     "execution_count": 23,
     "metadata": {},
     "output_type": "execute_result"
    }
   ],
   "source": [
    "sympy.Eq(mat_print(matrix([[x], [y], [z]])), sympy.MatrixSymbol('A', 3, 3) * sympy.MatrixSymbol('b', 3, 1))"
   ]
  },
  {
   "cell_type": "code",
   "execution_count": 24,
   "metadata": {
    "collapsed": false
   },
   "outputs": [
    {
     "data": {
      "image/png": "[encoded data removed]",
      "text/latex": [
       "$$\\left[\\begin{matrix}x\\\\y\\\\z\\end{matrix}\\right] = \\left[\\begin{matrix}2.0\\\\3.0\\\\1.0\\end{matrix}\\right]$$"
      ],
      "text/plain": [
       "⎡x⎤ = ⎡2.0⎤\n",
       "⎢ ⎥   ⎢   ⎥\n",
       "⎢y⎥   ⎢3.0⎥\n",
       "⎢ ⎥   ⎢   ⎥\n",
       "⎣z⎦   ⎣1.0⎦"
      ]
     },
     "execution_count": 24,
     "metadata": {},
     "output_type": "execute_result"
    }
   ],
   "source": [
    "sympy.Eq(mat_print(matrix([[x], [y], [z]])), mat_print(linalg.inv(A) * b))"
   ]
  },
  {
   "cell_type": "markdown",
   "metadata": {},
   "source": [
    "As you can see, we found the solution to the equation in vector form!"
   ]
  },
  {
   "cell_type": "markdown",
   "metadata": {},
   "source": [
    "## Augmented Matrices\n",
    "\n",
    "We can create "
   ]
  }
 ],
 "metadata": {
  "kernelspec": {
   "display_name": "Python 2",
   "language": "python",
   "name": "python2"
  },
  "language_info": {
   "codemirror_mode": {
    "name": "ipython",
    "version": 2
   },
   "file_extension": ".py",
   "mimetype": "text/x-python",
   "name": "python",
   "nbconvert_exporter": "python",
   "pygments_lexer": "ipython2",
   "version": "2.7.9"
  }
 },
 "nbformat": 4,
 "nbformat_minor": 0
}

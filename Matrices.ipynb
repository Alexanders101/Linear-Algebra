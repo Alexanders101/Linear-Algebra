{
 "cells": [
  {
   "cell_type": "markdown",
   "metadata": {},
   "source": [
    "# Matrices and Matrix Operations"
   ]
  },
  {
   "cell_type": "code",
   "execution_count": 1,
   "metadata": {
    "collapsed": true
   },
   "outputs": [],
   "source": [
    "from utils import * # import everything we need and set up notebook"
   ]
  },
  {
   "cell_type": "markdown",
   "metadata": {},
   "source": [
    "## The Matrix\n",
    "\n",
    "A generic matrix $A$ with dimensions $m \\times  n$ is described as the following:\n",
    "\n",
    "$$A = \\begin{bmatrix}\n",
    "a_{11} & a_{11} & \\cdots & a_{1n}\\\\ \n",
    "a_{21} & a_{22} & \\cdots & a_{2n}\\\\ \n",
    "a_{31} & a_{32} & \\cdots & a_{3n}\\\\ \n",
    "\\vdots & \\vdots & \\ddots & \\vdots\\\\ \n",
    "a_{m1} & a_{m2} & \\cdots & a_{mn} \n",
    "\\end{bmatrix}$$\n",
    "\n",
    "The **$i$th row of $A$** is described as the following:\n",
    "\n",
    "$$\\begin{bmatrix}\n",
    "a_{i1}  & a_{i2} & \\cdots  & a_{in}\n",
    "\\end{bmatrix} \\; \\; (1 \\leqslant i \\leqslant m)$$\n",
    "\n",
    "and the **$j$th row of $A$** is described as:\n",
    "\n",
    "$$\\begin{bmatrix}\n",
    "a_{1j}\\\\ \n",
    "a_{2j}\\\\ \n",
    "\\vdots \\\\ \n",
    "a_{mj}\n",
    "\\end{bmatrix} \\; \\; (1 \\leqslant j \\leqslant n)$$\n",
    "\n",
    "$a_{ij}$ is known as an **element** of matrix A located at row $i$ and column $j$.\n",
    "\n",
    "### Diagonal Matrix\n",
    "\n",
    "A square matrix $A = \\begin{bmatrix} a_{ij}\\end{bmatrix}$ for with every element off the diagonal is 0, that is, \n",
    "$a_{ij} = 0$ for $i \\neq j$, is called a **Diagonal Matrix**. For example, Matrix G is a general $3 \\times 3$ diagonal matrix.\n",
    "\n",
    "$$G = \\begin{bmatrix}\n",
    "a_{11} & 0 & 0\\\\ \n",
    "0 & a_{22} & 0\\\\ \n",
    "0 & 0 & a_{33}\n",
    "\\end{bmatrix} $$\n",
    "\n",
    "A diagonal matrix is also a scalar matrix if each member of the diagonal is also equal to each other. Matrix H is a general $3 \\times 3$ scalar matrix:\n",
    "\n",
    "$$H = \\begin{bmatrix}\n",
    "c & 0 & 0\\\\ \n",
    "0 & c & 0\\\\ \n",
    "0 & 0 & c\n",
    "\\end{bmatrix} $$\n",
    "\n",
    "### Matrix Equality\n",
    "\n",
    "A Matrix A is said to be equal to B $(A = B)$ when $a_{ij} = b_{ij}$ for $(1 \\leqslant i \\leqslant m), \\; (1 \\leqslant j \\leqslant n)$. That is, all of the elements in a matrix are equal to each other. For example given the following matrices:\n",
    "\n",
    "$$D = \\begin{bmatrix}\n",
    "1 & 5 & 3\\\\ \n",
    "-4 & 2 & 2\\\\ \n",
    "9 & -1 & -6\n",
    "\\end{bmatrix}\\;,\\; E = \\begin{bmatrix}\n",
    "1 & 5 & a\\\\ \n",
    "-4 & 2 & b\\\\ \n",
    "c & -1 & -6\n",
    "\\end{bmatrix}$$\n",
    "\n",
    "**$D = E$ if and only if** $a = 3, b = 2, and\\; c = 9.$"
   ]
  },
  {
   "cell_type": "markdown",
   "metadata": {},
   "source": [
    "## Matrix Addition\n",
    "\n",
    "If $A = \\begin{bmatrix}a_{ij} \\end{bmatrix}$ and $B = \\begin{bmatrix}b_{ij} \\end{bmatrix}$ are $m \\times n $ matrices, then the **sum of A and B** $(A + B)$ is equal to a matrix $C = \\begin{bmatrix}c_{ij} \\end{bmatrix}$, where:\n",
    "\n",
    "$$c_{ij} = a_{ij} + b_{ij} \\; for \\; (1 \\leqslant i \\leqslant m \\; , \\; 1 \\leqslant j \\leqslant n)$$\n",
    "\n",
    "That is, the elements of $C$ are equal to the corresponding elements of **$A$ and $B$**. For a general $3 \\times 3$ Matrix, $A + B$ is defined as the following:\n",
    "\n",
    "$$\\begin{bmatrix}\n",
    "a_{11} & a_{12} & a_{13}\\\\ \n",
    "a_{21} & a_{22} & a_{23}\\\\ \n",
    "a_{31} & a_{32} & a_{33}\n",
    "\\end{bmatrix} + \\begin{bmatrix}\n",
    "b_{11} & b_{12} & b_{13}\\\\ \n",
    "b_{21} & b_{22} & b_{23}\\\\ \n",
    "b_{31} & b_{32} & b_{33}\n",
    "\\end{bmatrix} = \\begin{bmatrix}\n",
    "a_{11} + b_{11} & a_{12} + b_{12} & a_{13} + b_{13}\\\\ \n",
    "a_{21} + b_{21} & a_{22} + b_{22} & a_{23} + b_{23}\\\\ \n",
    "a_{31} + b_{31} & a_{32} + b_{32} & a_{33} + b_{33}\n",
    "\\end{bmatrix}$$\n",
    "\n",
    "Please note that matrix addition is only define if the **shapes of $A$ and $B$ are equal to each other**."
   ]
  },
  {
   "cell_type": "code",
   "execution_count": 2,
   "metadata": {
    "collapsed": true
   },
   "outputs": [],
   "source": [
    "def matrix_add(A, B):\n",
    "    \n",
    "    # Check to make sure we can actually add the matricies.\n",
    "    if A.shape != B.shape: \n",
    "        print(\"Matrix addition only works with matrices of the same size!\")\n",
    "        return\n",
    "    \n",
    "    # Store the shape of the matrix.\n",
    "    dimensions = A.shape \n",
    "    \n",
    "    # Add each of the elements together to find the sum of the matricies.\n",
    "    C = matrix([[A[i, j] + B[i, j] for j in xrange(dimensions[1])] for i in xrange(dimensions[0])])\n",
    "    \n",
    "    return C"
   ]
  },
  {
   "cell_type": "code",
   "execution_count": 3,
   "metadata": {
    "collapsed": false
   },
   "outputs": [
    {
     "data": {
      "image/png": "[encoded data removed]",
      "text/latex": [
       "$$A = \\left[\\begin{matrix}5 & 1 & -3\\\\4 & 7 & 1\\\\0 & 3 & 2\\end{matrix}\\right]$$"
      ],
      "text/plain": [
       "A = ⎡5  1  -3⎤\n",
       "    ⎢        ⎥\n",
       "    ⎢4  7  1 ⎥\n",
       "    ⎢        ⎥\n",
       "    ⎣0  3  2 ⎦"
      ]
     },
     "execution_count": 3,
     "metadata": {},
     "output_type": "execute_result"
    }
   ],
   "source": [
    "A = matrix([[5,1,-3], [4,7,1], [0,3,2]]) # A Random 3 x 3 Matrix\n",
    "mat_print(A, 'A')"
   ]
  },
  {
   "cell_type": "code",
   "execution_count": 4,
   "metadata": {
    "collapsed": false
   },
   "outputs": [
    {
     "data": {
      "image/png": "[encoded data removed]",
      "text/latex": [
       "$$B = \\left[\\begin{matrix}9 & 9 & 0\\\\11 & 5 & 1\\\\4 & 0 & 6\\end{matrix}\\right]$$"
      ],
      "text/plain": [
       "B = ⎡9   9  0⎤\n",
       "    ⎢        ⎥\n",
       "    ⎢11  5  1⎥\n",
       "    ⎢        ⎥\n",
       "    ⎣4   0  6⎦"
      ]
     },
     "execution_count": 4,
     "metadata": {},
     "output_type": "execute_result"
    }
   ],
   "source": [
    "B = matrix([[9,9,0], [11,5,1], [4,0,6]]) # Another random 3 x 3 Matrix\n",
    "mat_print(B, 'B')"
   ]
  },
  {
   "cell_type": "code",
   "execution_count": 5,
   "metadata": {
    "collapsed": false
   },
   "outputs": [
    {
     "data": {
      "image/png": "[encoded data removed]",
      "text/latex": [
       "$$A+B = \\left[\\begin{matrix}14 & 10 & -3\\\\15 & 12 & 2\\\\4 & 3 & 8\\end{matrix}\\right]$$"
      ],
      "text/plain": [
       "A+B = ⎡14  10  -3⎤\n",
       "      ⎢          ⎥\n",
       "      ⎢15  12  2 ⎥\n",
       "      ⎢          ⎥\n",
       "      ⎣4   3   8 ⎦"
      ]
     },
     "execution_count": 5,
     "metadata": {},
     "output_type": "execute_result"
    }
   ],
   "source": [
    "mat_print(matrix_add(A, B), 'A+B') # Notice how each of the elements is the sum of the elements of A and B."
   ]
  },
  {
   "cell_type": "markdown",
   "metadata": {},
   "source": [
    "### Properties of Matrix Addition\n",
    "\n",
    "The properties of matrix addition is very similar to those of algebraic addition\n",
    "\n",
    "1. $A + B = B + A$\n",
    "2. $A + (B + C) = (A + B) + C$\n",
    "3. *There is a unique $m \\times n$ matrix **0** such that* $A + 0 = A$\n",
    "4. *For each $m \\times n$ matrix $A$, * $A + (-A) = 0$\n",
    "\n",
    "Here are the proofs for these properties in code. Please note, from now on, I will simply use A + B for matrix addition instead of my function."
   ]
  },
  {
   "cell_type": "code",
   "execution_count": 6,
   "metadata": {
    "collapsed": false
   },
   "outputs": [
    {
     "data": {
      "image/png": "[encoded data removed]",
      "text/latex": [
       "$$A = \\left[\\begin{matrix}a_{{11}} & a_{{12}} & a_{{13}}\\\\a_{{21}} & a_{{22}} & a_{{23}}\\\\a_{{21}} & a_{{22}} & a_{{33}}\\end{matrix}\\right]$$"
      ],
      "text/plain": [
       "A = ⎡a_{11}  a_{12}  a_{13}⎤\n",
       "    ⎢                      ⎥\n",
       "    ⎢a_{21}  a_{22}  a_{23}⎥\n",
       "    ⎢                      ⎥\n",
       "    ⎣a_{21}  a_{22}  a_{33}⎦"
      ]
     },
     "execution_count": 6,
     "metadata": {},
     "output_type": "execute_result"
    }
   ],
   "source": [
    "# A general 3 x 3 matrix\n",
    "A = matrix([symbol('a_{11} a_{12} a_{13}'),\n",
    "            symbol('a_{21} a_{22} a_{23}'),\n",
    "            symbol('a_{21} a_{22} a_{33}')])\n",
    "mat_print(A, 'A')"
   ]
  },
  {
   "cell_type": "code",
   "execution_count": 7,
   "metadata": {
    "collapsed": false
   },
   "outputs": [
    {
     "data": {
      "image/png": "[encoded data removed]",
      "text/latex": [
       "$$B = \\left[\\begin{matrix}b_{{11}} & b_{{12}} & b_{{13}}\\\\b_{{21}} & b_{{22}} & b_{{23}}\\\\b_{{21}} & b_{{22}} & b_{{33}}\\end{matrix}\\right]$$"
      ],
      "text/plain": [
       "B = ⎡b_{11}  b_{12}  b_{13}⎤\n",
       "    ⎢                      ⎥\n",
       "    ⎢b_{21}  b_{22}  b_{23}⎥\n",
       "    ⎢                      ⎥\n",
       "    ⎣b_{21}  b_{22}  b_{33}⎦"
      ]
     },
     "execution_count": 7,
     "metadata": {},
     "output_type": "execute_result"
    }
   ],
   "source": [
    "# Another general 3 x 3 matrix\n",
    "B = matrix([symbol('b_{11} b_{12} b_{13}'),\n",
    "            symbol('b_{21} b_{22} b_{23}'),\n",
    "            symbol('b_{21} b_{22} b_{33}')])\n",
    "mat_print(B, 'B')"
   ]
  },
  {
   "cell_type": "code",
   "execution_count": 8,
   "metadata": {
    "collapsed": false
   },
   "outputs": [
    {
     "data": {
      "image/png": "[encoded data removed]",
      "text/latex": [
       "$$A + B = \\left[\\begin{matrix}a_{{11}} + b_{{11}} & a_{{12}} + b_{{12}} & a_{{13}} + b_{{13}}\\\\a_{{21}} + b_{{21}} & a_{{22}} + b_{{22}} & a_{{23}} + b_{{23}}\\\\a_{{21}} + b_{{21}} & a_{{22}} + b_{{22}} & a_{{33}} + b_{{33}}\\end{matrix}\\right]$$"
      ],
      "text/plain": [
       "A + B = ⎡a_{11} + b_{11}  a_{12} + b_{12}  a_{13} + b_{13}⎤\n",
       "        ⎢                                                 ⎥\n",
       "        ⎢a_{21} + b_{21}  a_{22} + b_{22}  a_{23} + b_{23}⎥\n",
       "        ⎢                                                 ⎥\n",
       "        ⎣a_{21} + b_{21}  a_{22} + b_{22}  a_{33} + b_{33}⎦"
      ]
     },
     "execution_count": 8,
     "metadata": {},
     "output_type": "execute_result"
    }
   ],
   "source": [
    "mat_print(A + B, 'A + B')"
   ]
  },
  {
   "cell_type": "code",
   "execution_count": 9,
   "metadata": {
    "collapsed": false
   },
   "outputs": [
    {
     "data": {
      "image/png": "[encoded data removed]",
      "text/latex": [
       "$$B + A = \\left[\\begin{matrix}a_{{11}} + b_{{11}} & a_{{12}} + b_{{12}} & a_{{13}} + b_{{13}}\\\\a_{{21}} + b_{{21}} & a_{{22}} + b_{{22}} & a_{{23}} + b_{{23}}\\\\a_{{21}} + b_{{21}} & a_{{22}} + b_{{22}} & a_{{33}} + b_{{33}}\\end{matrix}\\right]$$"
      ],
      "text/plain": [
       "B + A = ⎡a_{11} + b_{11}  a_{12} + b_{12}  a_{13} + b_{13}⎤\n",
       "        ⎢                                                 ⎥\n",
       "        ⎢a_{21} + b_{21}  a_{22} + b_{22}  a_{23} + b_{23}⎥\n",
       "        ⎢                                                 ⎥\n",
       "        ⎣a_{21} + b_{21}  a_{22} + b_{22}  a_{33} + b_{33}⎦"
      ]
     },
     "execution_count": 9,
     "metadata": {},
     "output_type": "execute_result"
    }
   ],
   "source": [
    "# Since the a + b = b + a in algebraic addition, the two matricies are equal.\n",
    "mat_print(B + A, 'B + A') "
   ]
  },
  {
   "cell_type": "code",
   "execution_count": 10,
   "metadata": {
    "collapsed": false
   },
   "outputs": [
    {
     "data": {
      "image/png": "[encoded data removed]",
      "text/latex": [
       "$$C = \\left[\\begin{matrix}c_{{11}} & c_{{12}} & c_{{13}}\\\\c_{{21}} & c_{{22}} & c_{{23}}\\\\c_{{21}} & c_{{22}} & c_{{33}}\\end{matrix}\\right]$$"
      ],
      "text/plain": [
       "C = ⎡c_{11}  c_{12}  c_{13}⎤\n",
       "    ⎢                      ⎥\n",
       "    ⎢c_{21}  c_{22}  c_{23}⎥\n",
       "    ⎢                      ⎥\n",
       "    ⎣c_{21}  c_{22}  c_{33}⎦"
      ]
     },
     "execution_count": 10,
     "metadata": {},
     "output_type": "execute_result"
    }
   ],
   "source": [
    "# Yet another general 3 x 3 matrix\n",
    "C = matrix([symbol('c_{11} c_{12} c_{13}'),\n",
    "            symbol('c_{21} c_{22} c_{23}'),\n",
    "            symbol('c_{21} c_{22} c_{33}')])\n",
    "mat_print(C, 'C')"
   ]
  },
  {
   "cell_type": "code",
   "execution_count": 11,
   "metadata": {
    "collapsed": false
   },
   "outputs": [
    {
     "data": {
      "image/png": "[encoded data removed]",
      "text/latex": [
       "$$A + (B + C) = \\left[\\begin{matrix}a_{{11}} + b_{{11}} + c_{{11}} & a_{{12}} + b_{{12}} + c_{{12}} & a_{{13}} + b_{{13}} + c_{{13}}\\\\a_{{21}} + b_{{21}} + c_{{21}} & a_{{22}} + b_{{22}} + c_{{22}} & a_{{23}} + b_{{23}} + c_{{23}}\\\\a_{{21}} + b_{{21}} + c_{{21}} & a_{{22}} + b_{{22}} + c_{{22}} & a_{{33}} + b_{{33}} + c_{{33}}\\end{matrix}\\right]$$"
      ],
      "text/plain": [
       "A + (B + C) = ⎡a_{11} + b_{11} + c_{11}  a_{12} + b_{12} + c_{12}  a_{13} + b_\n",
       "              ⎢                                                               \n",
       "              ⎢a_{21} + b_{21} + c_{21}  a_{22} + b_{22} + c_{22}  a_{23} + b_\n",
       "              ⎢                                                               \n",
       "              ⎣a_{21} + b_{21} + c_{21}  a_{22} + b_{22} + c_{22}  a_{33} + b_\n",
       "\n",
       "{13} + c_{13}⎤\n",
       "             ⎥\n",
       "{23} + c_{23}⎥\n",
       "             ⎥\n",
       "{33} + c_{33}⎦"
      ]
     },
     "execution_count": 11,
     "metadata": {},
     "output_type": "execute_result"
    }
   ],
   "source": [
    "mat_print(A + (B + C), 'A + (B + C)')"
   ]
  },
  {
   "cell_type": "code",
   "execution_count": 13,
   "metadata": {
    "collapsed": false
   },
   "outputs": [
    {
     "data": {
      "image/png": "[encoded data removed]",
      "text/latex": [
       "$$(A + B) + C = \\left[\\begin{matrix}a_{{11}} + b_{{11}} + c_{{11}} & a_{{12}} + b_{{12}} + c_{{12}} & a_{{13}} + b_{{13}} + c_{{13}}\\\\a_{{21}} + b_{{21}} + c_{{21}} & a_{{22}} + b_{{22}} + c_{{22}} & a_{{23}} + b_{{23}} + c_{{23}}\\\\a_{{21}} + b_{{21}} + c_{{21}} & a_{{22}} + b_{{22}} + c_{{22}} & a_{{33}} + b_{{33}} + c_{{33}}\\end{matrix}\\right]$$"
      ],
      "text/plain": [
       "(A + B) + C = ⎡a_{11} + b_{11} + c_{11}  a_{12} + b_{12} + c_{12}  a_{13} + b_\n",
       "              ⎢                                                               \n",
       "              ⎢a_{21} + b_{21} + c_{21}  a_{22} + b_{22} + c_{22}  a_{23} + b_\n",
       "              ⎢                                                               \n",
       "              ⎣a_{21} + b_{21} + c_{21}  a_{22} + b_{22} + c_{22}  a_{33} + b_\n",
       "\n",
       "{13} + c_{13}⎤\n",
       "             ⎥\n",
       "{23} + c_{23}⎥\n",
       "             ⎥\n",
       "{33} + c_{33}⎦"
      ]
     },
     "execution_count": 13,
     "metadata": {},
     "output_type": "execute_result"
    }
   ],
   "source": [
    "# Again, since a + (b + c) = (a + b) + c in algebraic addition, it holds true for matrix addition.\n",
    "mat_print((A + B) + C, '(A + B) + C')"
   ]
  },
  {
   "cell_type": "code",
   "execution_count": 14,
   "metadata": {
    "collapsed": false
   },
   "outputs": [
    {
     "data": {
      "image/png": "[encoded data removed]",
      "text/latex": [
       "$$Z = \\left[\\begin{matrix}0 & 0 & 0\\\\0 & 0 & 0\\\\0 & 0 & 0\\end{matrix}\\right]$$"
      ],
      "text/plain": [
       "Z = ⎡0  0  0⎤\n",
       "    ⎢       ⎥\n",
       "    ⎢0  0  0⎥\n",
       "    ⎢       ⎥\n",
       "    ⎣0  0  0⎦"
      ]
     },
     "execution_count": 14,
     "metadata": {},
     "output_type": "execute_result"
    }
   ],
   "source": [
    "# A 3 x 3 zero matrix\n",
    "Z = matrix([[0, 0, 0],\n",
    "            [0, 0, 0],\n",
    "            [0, 0, 0]])\n",
    "mat_print(Z, 'Z')"
   ]
  },
  {
   "cell_type": "code",
   "execution_count": 15,
   "metadata": {
    "collapsed": false
   },
   "outputs": [
    {
     "data": {
      "image/png": "[encoded data removed]",
      "text/latex": [
       "$$A + 0 = \\left[\\begin{matrix}a_{{11}} & a_{{12}} & a_{{13}}\\\\a_{{21}} & a_{{22}} & a_{{23}}\\\\a_{{21}} & a_{{22}} & a_{{33}}\\end{matrix}\\right]$$"
      ],
      "text/plain": [
       "A + 0 = ⎡a_{11}  a_{12}  a_{13}⎤\n",
       "        ⎢                      ⎥\n",
       "        ⎢a_{21}  a_{22}  a_{23}⎥\n",
       "        ⎢                      ⎥\n",
       "        ⎣a_{21}  a_{22}  a_{33}⎦"
      ]
     },
     "execution_count": 15,
     "metadata": {},
     "output_type": "execute_result"
    }
   ],
   "source": [
    "# Since we are adding zero to each element, the matrix remains the same.\n",
    "mat_print(A + Z, 'A + 0')"
   ]
  },
  {
   "cell_type": "code",
   "execution_count": 16,
   "metadata": {
    "collapsed": false
   },
   "outputs": [
    {
     "data": {
      "image/png": "[encoded data removed]",
      "text/latex": [
       "$$A + (-A) = \\left[\\begin{matrix}0 & 0 & 0\\\\0 & 0 & 0\\\\0 & 0 & 0\\end{matrix}\\right]$$"
      ],
      "text/plain": [
       "A + (-A) = ⎡0  0  0⎤\n",
       "           ⎢       ⎥\n",
       "           ⎢0  0  0⎥\n",
       "           ⎢       ⎥\n",
       "           ⎣0  0  0⎦"
      ]
     },
     "execution_count": 16,
     "metadata": {},
     "output_type": "execute_result"
    }
   ],
   "source": [
    "# Again, much like in algebraic addition, subracting a value from itself will equal 0\n",
    "mat_print(A + (-A), 'A + (-A)')"
   ]
  },
  {
   "cell_type": "markdown",
   "metadata": {},
   "source": [
    "## Scalar Multiplication"
   ]
  },
  {
   "cell_type": "code",
   "execution_count": null,
   "metadata": {
    "collapsed": true
   },
   "outputs": [],
   "source": []
  }
 ],
 "metadata": {
  "kernelspec": {
   "display_name": "Python 2",
   "language": "python",
   "name": "python2"
  },
  "language_info": {
   "codemirror_mode": {
    "name": "ipython",
    "version": 2
   },
   "file_extension": ".py",
   "mimetype": "text/x-python",
   "name": "python",
   "nbconvert_exporter": "python",
   "pygments_lexer": "ipython2",
   "version": "2.7.9"
  }
 },
 "nbformat": 4,
 "nbformat_minor": 0
}

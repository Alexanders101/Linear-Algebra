{
 "cells": [
  {
   "cell_type": "markdown",
   "metadata": {},
   "source": [
    "# Matrix Determinants\n",
    "by: Alex Shmakov"
   ]
  },
  {
   "cell_type": "code",
   "execution_count": 1,
   "metadata": {},
   "outputs": [],
   "source": [
    "from utils import * # imports everything we need and sets up notebook"
   ]
  },
  {
   "cell_type": "markdown",
   "metadata": {},
   "source": [
    "## Inversions"
   ]
  },
  {
   "cell_type": "markdown",
   "metadata": {},
   "source": [
    "Given a permutation of a set of numbers, for example 5423, the number of inversions is the number of times a larger number **precedes** a smaller number.\n",
    "\n",
    "inversions of 5423 = { **54**23 , **5**4**2**3 , **5**42**3** , 5**42**3 , 5**4**2**3** }\n",
    "\n",
    "As you can see, 5423 has 5 possible inversions in it."
   ]
  },
  {
   "cell_type": "code",
   "execution_count": 2,
   "metadata": {},
   "outputs": [],
   "source": [
    "# A quifkc function for finding how many inversions an array containing a permutation has.\n",
    "def find_inversions(perm):\n",
    "    count = 0\n",
    "    for index, i in enumerate(perm):\n",
    "        for j in perm[index+1:]:\n",
    "            if i > j:\n",
    "                count += 1\n",
    "    return count"
   ]
  },
  {
   "cell_type": "code",
   "execution_count": 3,
   "metadata": {},
   "outputs": [
    {
     "data": {
      "image/png": "[encoded data removed]"
     },
     "output_type": "display_data",
     "metadata": {}
    }
   ],
   "source": [
    "find_inversions([5,4,2,3])"
   ]
  },
  {
   "cell_type": "markdown",
   "metadata": {},
   "source": [
    "## Determinants"
   ]
  },
  {
   "cell_type": "markdown",
   "metadata": {},
   "source": [
    "A determinant is a value that can be derived from a matrix. A determinant can only be take on a **Square Matrix** and holds many special properies. "
   ]
  },
  {
   "cell_type": "markdown",
   "metadata": {},
   "source": [
    "### Determinants of a 2x2 matrix"
   ]
  },
  {
   "cell_type": "markdown",
   "metadata": {},
   "source": [
    "Take a general 2x2 matrix:\n",
    "\n",
    "\\begin{bmatrix}\n",
    "a_{11} & a_{12}\\\\ \n",
    "a_{21} & a_{22}\n",
    "\\end{bmatrix}\n",
    "\n",
    "This matrix consists of multiplying the terms $a_{1j_1}*a_{2j_2}$\n",
    "\n",
    "In order to find the **possble products** of this matrix, find the permutations of a set of number equal to the dimensions:\n",
    "\n",
    "$$2x2 : n = 2 \\\\\n",
    "n! = 2! = 2 \\\\\n",
    "(j_1 , j_2) = \\left\\{ (1,2), (2,1)\\right\\}\n",
    "$$\n",
    "\n",
    "The products of the above matrix would be:\n",
    "\n",
    "$$a_{11}a_{22} \\:\\:and\\:\\: a_{12}a_{21}$$\n",
    "\n",
    "In order to determine the **sign of each product**, find the number of inversions on its permutation. If the product has an odd number of inversions, it is negative, otherwise, it is positive.\n",
    "\n",
    "(1,2) has 0 inversions : even : +  \n",
    "(2,1) has 1 inversion  : odd  : -\n",
    "\n",
    "Finally, sum all of the products together with their appropriate signs in order to get the determinant. For our matrix, this would be:\n",
    "\n",
    "$$\\begin{vmatrix}\n",
    "a_{11} & a_{12}\\\\ \n",
    "a_{21} & a_{22}\n",
    "\\end{vmatrix} = a_{11}a_{22} - a_{12}a_{21}$$\n",
    "\n",
    "Time to write some code!"
   ]
  },
  {
   "cell_type": "code",
   "execution_count": 4,
   "metadata": {},
   "outputs": [],
   "source": [
    "def determinant_2d(mat):\n",
    "    return (mat[0,0] * mat[1,1]) - (mat[0,1] * mat[1,0])"
   ]
  },
  {
   "cell_type": "code",
   "execution_count": 5,
   "metadata": {},
   "outputs": [
    {
     "data": {
      "image/png": "[encoded data removed]"
     },
     "output_type": "display_data",
     "metadata": {}
    }
   ],
   "source": [
    "A = matrix([[1,2], [3,4]])\n",
    "mat_print(A, 'A')"
   ]
  },
  {
   "cell_type": "code",
   "execution_count": 6,
   "metadata": {},
   "outputs": [
    {
     "data": {
      "image/png": "[encoded data removed]"
     },
     "output_type": "display_data",
     "metadata": {}
    }
   ],
   "source": [
    "determinant_2d(A)"
   ]
  },
  {
   "cell_type": "code",
   "execution_count": 7,
   "metadata": {},
   "outputs": [
    {
     "data": {
      "image/png": "[encoded data removed]"
     },
     "output_type": "display_data",
     "metadata": {}
    }
   ],
   "source": [
    "B = sympy.Matrix([[symbol('a'), symbol('b')], [symbol('c'), symbol('d')]])\n",
    "mat_print(B, 'B')"
   ]
  },
  {
   "cell_type": "code",
   "execution_count": 8,
   "metadata": {},
   "outputs": [
    {
     "data": {
      "image/png": "[encoded data removed]"
     },
     "output_type": "display_data",
     "metadata": {}
    }
   ],
   "source": [
    "determinant_2d(B)"
   ]
  },
  {
   "cell_type": "markdown",
   "metadata": {},
   "source": [
    "### 3x3 Matrices and above"
   ]
  },
  {
   "cell_type": "markdown",
   "metadata": {},
   "source": [
    "The same process we used to find the products for a 2x2 matrix applies for a 3x3 matrix:\n",
    "\n",
    "$$\n",
    "3x3 : n = 3 \\\\\n",
    "n! = 3! = 6 \\\\\n",
    "$$\n"
   ]
  },
  {
   "cell_type": "code",
   "execution_count": 9,
   "metadata": {},
   "outputs": [
    {
     "data": {
      "text/plain": [
       "array([[1, 2, 3],\n",
       "       [1, 3, 2],\n",
       "       [2, 1, 3],\n",
       "       [2, 3, 1],\n",
       "       [3, 1, 2],\n",
       "       [3, 2, 1]])"
      ]
     },
     "execution_count": 9,
     "output_type": "execute_result",
     "metadata": {}
    }
   ],
   "source": [
    "permutations([1,2,3])"
   ]
  },
  {
   "cell_type": "markdown",
   "metadata": {},
   "source": [
    "This gives us our set of permutations for the prodcut of $a_{1j_1}*a_{2j_2}*a_{3j_3}$ for a 3x3 matrix:\n",
    "$$(j_1 , j_2, j_3) = \\left\\{ (1, 2, 3), (1, 3, 2), (2, 1, 3), \n",
    "                             (2, 3, 1), (3, 1, 2), (3, 2, 1)\\right\\}$$\n",
    "                             \n",
    "Now to find out the sign of each of these \n",
    "\n"
   ]
  },
  {
   "cell_type": "code",
   "execution_count": 10,
   "metadata": {},
   "outputs": [
    {
     "name": "stdout",
     "output_type": "stream",
     "text": [
      "[1 2 3] has 0 inversions, product is positive\n",
      "[1 3 2] has 1 inversions, product is negative\n",
      "[2 1 3] has 1 inversions, product is negative\n",
      "[2 3 1] has 2 inversions, product is positive\n",
      "[3 1 2] has 2 inversions, product is positive\n",
      "[3 2 1] has 3 inversions, product is negative\n"
     ]
    }
   ],
   "source": [
    "for perm in permutations([1,2,3]):\n",
    "    inverses = find_inversions(perm)\n",
    "    print('{} has {} inversions, product is {}'\n",
    "          .format(perm, inverses, 'positive' if is_even(inverses) else 'negative'))"
   ]
  },
  {
   "cell_type": "markdown",
   "metadata": {},
   "source": [
    "Using this information we can determing that the formula for finding the determinant of a 3x3 matrix to be:\n",
    "$$\\begin{vmatrix}\n",
    "a_{11} & a_{12} & a_{13}\\\\ \n",
    "a_{21} & a_{22} & a_{23}\\\\ \n",
    "a_{31} & a_{32} & a_{33}\\\\\n",
    "\\end{vmatrix} = a_{11}a_{12}a_{13} - a_{11}a_{13}a_{12} - a_{12}a_{11}a_{13} \n",
    "+ a_{12}a_{13}a_{11} + a_{13}a_{11}a_{12} - a_{13}a_{12}a_{11}$$\n",
    "\n",
    "Here I create a function for finding the determinant using this method for a matrix of any size."
   ]
  },
  {
   "cell_type": "code",
   "execution_count": 11,
   "metadata": {},
   "outputs": [],
   "source": [
    "def determinant_any(m):\n",
    "    n_dim = m.shape[0]\n",
    "    perms = array([[perm, 1 if is_even(find_inversions(perm)) else -1] # Create array of permutations and their multipliers\n",
    "                   for perm in permutations(arange(1, n_dim+1, 1), True)])\n",
    "    determinant = 0.0\n",
    "    for permutation in perms: # for every permutation\n",
    "        determinant += (permutation[1] * # multiplier of given permutation (either 1 or -1) times #\n",
    "                        prod([m[j, permutation[0][j]-1] for j in xrange(n_dim)])) # product of every a_{nj_n}\n",
    "    return determinant"
   ]
  },
  {
   "cell_type": "code",
   "execution_count": 12,
   "metadata": {},
   "outputs": [
    {
     "data": {
      "image/png": "[encoded data removed]"
     },
     "output_type": "display_data",
     "metadata": {}
    }
   ],
   "source": [
    "C = matrix([[1,9,2], [55,6,0], [7,7,3]])\n",
    "mat_print(C, 'C')"
   ]
  },
  {
   "cell_type": "code",
   "execution_count": 13,
   "metadata": {},
   "outputs": [
    {
     "data": {
      "image/png": "[encoded data removed]"
     },
     "output_type": "display_data",
     "metadata": {}
    }
   ],
   "source": [
    "determinant_any(C)"
   ]
  },
  {
   "cell_type": "code",
   "execution_count": 14,
   "metadata": {},
   "outputs": [
    {
     "data": {
      "image/png": "[encoded data removed]"
     },
     "output_type": "display_data",
     "metadata": {}
    }
   ],
   "source": [
    "D = sympy.Matrix([[symbol('a'), symbol('b'), symbol('c')], \n",
    "                  [symbol('d'), symbol('e'), symbol('f')],\n",
    "                  [symbol('g'), symbol('h'), symbol('i')]])\n",
    "mat_print(D, 'D')"
   ]
  },
  {
   "cell_type": "code",
   "execution_count": 15,
   "metadata": {},
   "outputs": [
    {
     "data": {
      "image/png": "[encoded data removed]"
     },
     "output_type": "display_data",
     "metadata": {}
    }
   ],
   "source": [
    "determinant_any(D)"
   ]
  },
  {
   "cell_type": "markdown",
   "metadata": {},
   "source": [
    "This process can be continued *ad infinitum*, although it gets more and more convoluted as the matrix increases in size."
   ]
  },
  {
   "cell_type": "code",
   "execution_count": 16,
   "metadata": {},
   "outputs": [
    {
     "data": {
      "image/png": "[encoded data removed]"
     },
     "output_type": "display_data",
     "metadata": {}
    }
   ],
   "source": [
    "# A general 4x4 matrix\n",
    "F = sympy.Matrix([[symbol('a_{11}'), symbol('a_{12}'), symbol('a_{13}'), symbol('a_{14}')], \n",
    "                  [symbol('a_{21}'), symbol('a_{22}'), symbol('a_{23}'), symbol('a_{24}')],\n",
    "                  [symbol('a_{31}'), symbol('a_{32}'), symbol('a_{33}'), symbol('a_{34}')],\n",
    "                  [symbol('a_{41}'), symbol('a_{42}'), symbol('a_{43}'), symbol('a_{44}')]])\n",
    "mat_print(F, 'F')"
   ]
  },
  {
   "cell_type": "code",
   "execution_count": 17,
   "metadata": {},
   "outputs": [
    {
     "data": {
      "image/png": "[encoded data removed]"
     },
     "output_type": "display_data",
     "metadata": {}
    }
   ],
   "source": [
    "determinant_any(F) # oh my"
   ]
  },
  {
   "cell_type": "markdown",
   "metadata": {},
   "source": [
    "## Cofactor Expansion"
   ]
  },
  {
   "cell_type": "markdown",
   "metadata": {},
   "source": [
    "When dealing with large matrices, it is often much better to break down the large calculations seen above into smaller calculations. In order to do this, we use cofactor expansion. We can essentially split a matrix into multiple parts by elminating certain rows or columns.\n",
    "\n",
    "$$ A = \\begin{bmatrix}\n",
    "1 & 4 & -5 & 6\\\\ \n",
    "3 & 5 & 2 & 0\\\\ \n",
    "1 & 1 & 8 & 6\\\\ \n",
    "4 & 5 & 6 & 7\n",
    "\\end{bmatrix}$$\n",
    "\n",
    "$$Eliminate \\left [Row\\>2, Column\\>3 \\right ] \\rightarrow  \\begin{bmatrix}\n",
    "1 & 4 & \\left [-5  \\right ] & 6\\\\ \n",
    "\\left [3  \\right ] & \\left [5  \\right ] & \\left [2  \\right ] & \\left [0  \\right ]\\\\ \n",
    "1 & 1 & \\left [8  \\right ] & 6\\\\ \n",
    "4 & 5 & \\left [6  \\right ] & 7\n",
    "\\end{bmatrix}$$\n",
    "\n",
    "$$C_{23} = \\begin{bmatrix}\n",
    "1 & 4 & 6\\\\ \n",
    "1 & 1 & 6\\\\ \n",
    "4 & 5 & 7\n",
    "\\end{bmatrix}$$\n",
    "\n",
    "You can use these minor matrices in order to find the determinant of A. The determinant is found using this formula:\n",
    "\n",
    "$$\\left |A  \\right | = \\sum (-1)^{i+j}a_{ij}\\left |C_{ij}  \\right |$$\n",
    "\n",
    "Choose either a row $(i)$ or a column $(j)$ and iterate across that entire row or column.\n",
    "\n",
    "For example, for the above matrix A, we decide $i$ to be $1$.\n",
    "\n",
    "$$\\left |A  \\right | = (-1)^{1+1}a_{11}\\left | C_{11}  \\right | + (-1)^{1+2}a_{12}\\left | C_{12}  \\right | + (-1)^{1+3}a_{13}\\left | C_{13}  \\right | + (-1)^{1+4}a_{14}\\left | C_{14}  \\right |$$\n",
    "\n",
    "$$\\left |A  \\right | \n",
    "= (-1)^{2}(1)\\begin{vmatrix}\n",
    "5 & 2 & 0\\\\ \n",
    "1 & 8 & 6\\\\ \n",
    "5 & 6 & 7\n",
    "\\end{vmatrix} \n",
    "+ (-1)^{3}(4)\\begin{vmatrix}\n",
    "3 & 2 & 0\\\\ \n",
    "1 & 8 & 6\\\\ \n",
    "4 & 6 & 7\n",
    "\\end{vmatrix} \n",
    "+ (-1)^{4}(-5)\\begin{vmatrix}\n",
    "3 & 5 & 0\\\\ \n",
    "1 & 1 & 6\\\\ \n",
    "4 & 5 & 7\n",
    "\\end{vmatrix}\n",
    "+ (-1)^{5}(6)\\begin{vmatrix}\n",
    "3 & 5 & 2\\\\ \n",
    "1 & 1 & 8\\\\ \n",
    "4 & 5 & 6\n",
    "\\end{vmatrix}$$\n",
    "\n",
    "$$\n",
    "\\left |A  \\right | \n",
    "= 1\\begin{vmatrix}\n",
    "5 & 2 & 0\\\\ \n",
    "1 & 8 & 6\\\\ \n",
    "5 & 6 & 7\n",
    "\\end{vmatrix} \n",
    "- 4\\begin{vmatrix}\n",
    "3 & 2 & 0\\\\ \n",
    "1 & 8 & 6\\\\ \n",
    "4 & 6 & 7\n",
    "\\end{vmatrix} \n",
    "- 5\\begin{vmatrix}\n",
    "3 & 5 & 0\\\\ \n",
    "1 & 1 & 6\\\\ \n",
    "4 & 5 & 7\n",
    "\\end{vmatrix}\n",
    "- 6\\begin{vmatrix}\n",
    "3 & 5 & 2\\\\ \n",
    "1 & 1 & 8\\\\ \n",
    "4 & 5 & 6\n",
    "\\end{vmatrix}$$"
   ]
  },
  {
   "cell_type": "code",
   "execution_count": 18,
   "metadata": {},
   "outputs": [
    {
     "data": {
      "image/png": "[encoded data removed]"
     },
     "output_type": "display_data",
     "metadata": {}
    }
   ],
   "source": [
    "# Lets remake the matrix we saw above\n",
    "H = matrix([[1,4,-5,6], [3,5,2,0], [1,1,8,6], [4,5,6,7]])\n",
    "mat_print(H, 'H')"
   ]
  },
  {
   "cell_type": "code",
   "execution_count": 19,
   "metadata": {},
   "outputs": [
    {
     "data": {
      "image/png": "[encoded data removed]"
     },
     "output_type": "display_data",
     "metadata": {}
    }
   ],
   "source": [
    "# First, to prove that it works, lets manually do the equation we found at the end of the last section\n",
    "(determinant_any(matrix([[5,2,0], [1,8,6], [5,6,7]])) \n",
    "- 4*determinant_any(matrix([[3,2,0], [1,8,6], [4,6,7]])) \n",
    "- 5*determinant_any(matrix([[3,5,0], [1,1,6], [4,5,7]]))\n",
    "- 6*determinant_any(matrix([[3,5,2], [1,1,8], [4,5,6]])))"
   ]
  },
  {
   "cell_type": "code",
   "execution_count": 20,
   "metadata": {},
   "outputs": [
    {
     "data": {
      "image/png": "[encoded data removed]"
     },
     "output_type": "display_data",
     "metadata": {}
    }
   ],
   "source": [
    "determinant_any(H) # It checks out!"
   ]
  },
  {
   "cell_type": "code",
   "execution_count": 21,
   "metadata": {},
   "outputs": [],
   "source": [
    "# This function searches through an array to find the minor matricies for a given row or column.\n",
    "# This function returns an array of [C_{ij}, a_{ij}, (-1)^(i+j)]\n",
    "def find_minor_matricies(m, column = False, i = 1):\n",
    "    n_dim = m.shape[0]\n",
    "    minors = []\n",
    "    i -= 1\n",
    "    if not column:\n",
    "        for j in xrange(n_dim):\n",
    "            minors.append(array([delete(delete(m, i, 0), j, 1), m[i, j], (-1)**(i+j)]))\n",
    "    else:\n",
    "        j = i\n",
    "        i = None\n",
    "        for i in xrange(n_dim):\n",
    "            minors.append(array([delete(delete(m, i, 0), j, 1), m[i, j], (-1)**(i+j)]))\n",
    "    return array(minors)"
   ]
  },
  {
   "cell_type": "code",
   "execution_count": 22,
   "metadata": {},
   "outputs": [
    {
     "name": "stdout",
     "output_type": "stream",
     "text": [
      "[matrix([[5, 2, 0],\n",
      "        [1, 8, 6],\n",
      "        [5, 6, 7]])\n",
      " matrix([[3, 2, 0],\n",
      "        [1, 8, 6],\n",
      "        [4, 6, 7]])\n",
      " matrix([[3, 5, 0],\n",
      "        [1, 1, 6],\n",
      "        [4, 5, 7]])\n",
      " matrix([[3, 5, 2],\n",
      "        [1, 1, 8],\n",
      "        [4, 5, 6]])]\n"
     ]
    }
   ],
   "source": [
    "# Lets look at the minor matrices of our above matrix\n",
    "print(find_minor_matricies(H)[:, 0]) # Checks out"
   ]
  },
  {
   "cell_type": "code",
   "execution_count": 23,
   "metadata": {},
   "outputs": [
    {
     "data": {
      "image/png": "[encoded data removed]"
     },
     "output_type": "display_data",
     "metadata": {}
    }
   ],
   "source": [
    "# Lets check our function by testing matrix H \n",
    "sum([ (determinant_any(minor_mat)*factor*sign) for minor_mat, factor, sign in find_minor_matricies(H)])"
   ]
  },
  {
   "cell_type": "markdown",
   "metadata": {},
   "source": [
    "## Special Properties of determinants"
   ]
  },
  {
   "cell_type": "markdown",
   "metadata": {},
   "source": [
    "### Using determinants to find Area"
   ]
  },
  {
   "cell_type": "markdown",
   "metadata": {},
   "source": [
    "You can use the determinant of a 2x2 matrix holding the coordinates of a quadrilateral with one point on the origin using the equation \n",
    "\n",
    "$$A_{quadrilateral} = \\begin{Vmatrix}\n",
    "x_1 & x_2\\\\ \n",
    "y_1 & y_2\n",
    "\\end{Vmatrix}$$\n",
    "\n",
    "Similarly, you can find the area of a triangle using the formula \n",
    "\n",
    "$$A_{triangle} = \\frac{1}{2}\\begin{Vmatrix}\n",
    "x_1 & y_1 & 1\\\\ \n",
    "x_2 & y_2 & 1\\\\ \n",
    "x_3 & y_3 & 1 \n",
    "\\end{Vmatrix}$$ "
   ]
  },
  {
   "cell_type": "markdown",
   "metadata": {},
   "source": [
    "### Transposition and inversion\n",
    "\n",
    "When **trasnposing** a matrix, the determinant **does not change**:\n",
    "\n",
    "$$A = \\begin{bmatrix}\n",
    "1 & 2 & 3\\\\ \n",
    "4 & 5 & 0\\\\ \n",
    "3 & 1 & 2\n",
    "\\end{bmatrix}, \\>A^T = \\begin{bmatrix}\n",
    "1 & 4 & 3\\\\ \n",
    "2 & 5 & 1\\\\ \n",
    "3 & 0 & 2\n",
    "\\end{bmatrix}$$\n",
    "\n",
    "$$\\left | A \\right | = -39 = \\left |A^T  \\right |$$\n",
    "\n",
    "When **inversing** a matrix, the determinant becomes the **multiplicitive inverse** of the original determinant:\n",
    "\n",
    "$$\\left | A \\right | =(\\left | A^{-1} \\right |)^{-1} = \\frac{1}{\\left | A^{-1} \\right |}$$\n",
    "\n",
    "### Interchanging rows and columns\n",
    "\n",
    "When you **switch around two rows or columns** of a matrix, the determinant **flips signs**:\n",
    "\n",
    "$$\\left |A \\right | = \\begin{vmatrix}\n",
    "1 & 2 & 3\\\\ \n",
    "4 & 5 & 0\\\\ \n",
    "3 & 1 & 2\n",
    "\\end{vmatrix}$$\n",
    "\n",
    "$$\\left |A(R_1 \\leftrightarrow R_3)  \\right | = \\begin{vmatrix}\n",
    "3 & 1 & 2\\\\ \n",
    "4 & 5 & 0\\\\ \n",
    "1 & 2 & 3\n",
    "\\end{vmatrix}$$\n",
    "\n",
    "$$\\left |A \\right | = -39 \\\\\n",
    "\\left |A(R_1 \\leftrightarrow R_3) \\right | = 39\n",
    "$$\n",
    "\n",
    "   Therefore, the sign of the new determinant is equal to $(-1)^n$, where n is the amount of times you interchanged rows or columns\n",
    "   \n",
    "### Multiplications and Combinations\n",
    "\n",
    "Multiplying a row or column of a matrix will **multiply the determinant by the same factor**:\n",
    "\n",
    "$$\\left |A \\right | = \\begin{vmatrix}\n",
    "1 & 2 & 3\\\\ \n",
    "4 & 5 & 0\\\\ \n",
    "3 & 1 & 2\n",
    "\\end{vmatrix}$$\n",
    "\n",
    "$$\\left |A(5R_1 \\rightarrow R_1)  \\right | = \\begin{vmatrix}\n",
    "5 & 10 & 15\\\\ \n",
    "4 & 5 & 0\\\\ \n",
    "3 & 1 & 2\n",
    "\\end{vmatrix}$$\n",
    "\n",
    "$$\\left |A \\right | = -39 \\\\\n",
    "\\left |A(5R_1 \\rightarrow R_1) \\right | = 5*-39 = -195\n",
    "$$\n",
    "\n",
    "Adding a multiple of a row or column to another row or column will **not change the determinant**:\n",
    "\n",
    "$$\\left |A \\right | = \\begin{vmatrix}\n",
    "1 & 2 & 3\\\\ \n",
    "4 & 5 & 0\\\\ \n",
    "3 & 1 & 2\n",
    "\\end{vmatrix}$$\n",
    "\n",
    "$$\\left |A(2R_1 + R_2 \\rightarrow R_2)  \\right | = \\begin{vmatrix}\n",
    "1 & 2 & 3\\\\ \n",
    "6 & 9 & 6\\\\ \n",
    "3 & 1 & 2\n",
    "\\end{vmatrix}$$\n",
    "\n",
    "$$\\left |A \\right | = -39 \\\\\n",
    "\\left |A(2R_1 + R_2 \\rightarrow R_2) \\right | = -39$$\n",
    "\n",
    "### Zero Determinants\n",
    "\n",
    "When an entire row or column has 0s, the determinant of the matrix is 0:\n",
    "\n",
    "$$\\begin{vmatrix}\n",
    "1 & 3 & 5\\\\ \n",
    " 1&  21& 7\\\\ \n",
    " 0&0  & 0\n",
    "\\end{vmatrix} = 0$$\n",
    "\n",
    "Furthermore, if one of the rows/columns is the same as another row/column, the determinant is zero:\n",
    "\n",
    "$$\\begin{vmatrix}\n",
    "5 & 1 & 7 & 1\\\\ \n",
    " 3&  13&  9& 9\\\\ \n",
    " 0&  2&  7& 7\\\\ \n",
    " 3&  13&  9& 9\n",
    "\\end{vmatrix} = 0$$\n",
    "\n",
    "### Determinants of triangular matricies\n",
    "\n",
    "\n",
    "A trianglualr matrix is one defined as having all zeroes either above or below the main diagonal. The determinant of a diagonal matrix is found by simply multiplying the terms of the main diagonal:\n",
    "\n",
    "$$\\begin{vmatrix}\n",
    "5 & 1 & 7 & 1\\\\ \n",
    " 0&  13&  9& 9\\\\ \n",
    " 0&  0&  7& 7\\\\ \n",
    " 0 &  0&  0& 9\n",
    "\\end{vmatrix} = 5*13*7*9 = 4095$$\n",
    "\n",
    "For a reverse diagonal matrix, the rules are pretty much the same except the sign of the determinant is flipped if the size of the matrix is not a multiple of 4 or 1 grater than a multiple of 4 $(4n\\>or\\>4n+1)$\n",
    "\n",
    "When finding matricies, it is often best to transform the matrix into a diagonal matrix in order to minimuze the calculation time. However, when doing so, you must keep track of the changes these changes make to the determinant, as explained in the sections above.\n",
    "\n",
    "\n",
    "Lets look at some proofs of these properties"
   ]
  },
  {
   "cell_type": "code",
   "execution_count": 24,
   "metadata": {},
   "outputs": [
    {
     "data": {
      "image/png": "[encoded data removed]"
     },
     "output_type": "display_data",
     "metadata": {}
    }
   ],
   "source": [
    "# Here we make a general 3x3 matrix\n",
    "T = matrix([symbol('a_{11} a_{12} a_{13}'), \n",
    "            symbol('a_{21} a_{22} a_{23}'), \n",
    "            symbol('a_{31} a_{32} a_{33}')])\n",
    "mat_print(T, 'T')"
   ]
  },
  {
   "cell_type": "code",
   "execution_count": 25,
   "metadata": {},
   "outputs": [
    {
     "data": {
      "image/png": "[encoded data removed]"
     },
     "output_type": "display_data",
     "metadata": {}
    }
   ],
   "source": [
    "determinant_any(T) # The original determinant"
   ]
  },
  {
   "cell_type": "code",
   "execution_count": 26,
   "metadata": {},
   "outputs": [
    {
     "data": {
      "image/png": "[encoded data removed]"
     },
     "output_type": "display_data",
     "metadata": {}
    }
   ],
   "source": [
    "mat_print(T.transpose(), 'T_{transposed}')"
   ]
  },
  {
   "cell_type": "code",
   "execution_count": 27,
   "metadata": {},
   "outputs": [
    {
     "data": {
      "image/png": "[encoded data removed]"
     },
     "output_type": "display_data",
     "metadata": {}
    }
   ],
   "source": [
    "# The determinant of the transposed matrix, as you can see it is the same as the original\n",
    "determinant_any(T.transpose())"
   ]
  },
  {
   "cell_type": "code",
   "execution_count": 28,
   "metadata": {},
   "outputs": [
    {
     "data": {
      "image/png": "[encoded data removed]"
     },
     "output_type": "display_data",
     "metadata": {}
    }
   ],
   "source": [
    "T[[0, 1],:] = T[[1, 0],:] # Flip Rows One and Two\n",
    "mat_print(T, 'T_{Flipped}')"
   ]
  },
  {
   "cell_type": "code",
   "execution_count": 29,
   "metadata": {},
   "outputs": [
    {
     "data": {
      "image/png": "[encoded data removed]"
     },
     "output_type": "display_data",
     "metadata": {}
    }
   ],
   "source": [
    "determinant_any(T) # As you can see, it is the negative of the original determinant"
   ]
  },
  {
   "cell_type": "code",
   "execution_count": 30,
   "metadata": {},
   "outputs": [
    {
     "data": {
      "image/png": "[encoded data removed]"
     },
     "output_type": "display_data",
     "metadata": {}
    }
   ],
   "source": [
    "T[[1, 0],:] = T[[0, 1],:] # Undo previous operation\n",
    "T[1, :] = T[1, :]*2 # Multiply the second row of the matrix by a factor of 2\n",
    "mat_print(T, 'T_{Multiplied}')"
   ]
  },
  {
   "cell_type": "code",
   "execution_count": 31,
   "metadata": {},
   "outputs": [
    {
     "data": {
      "image/png": "[encoded data removed]"
     },
     "output_type": "display_data",
     "metadata": {}
    }
   ],
   "source": [
    "# The determinant of the factored matrix, as you can see, it is a multiple of the orignal\n",
    "sympy.factor(determinant_any(T))"
   ]
  },
  {
   "cell_type": "code",
   "execution_count": 32,
   "metadata": {},
   "outputs": [
    {
     "data": {
      "image/png": "[encoded data removed]"
     },
     "output_type": "display_data",
     "metadata": {}
    }
   ],
   "source": [
    "T[1, :] = T[1, :]/2 # Undo our previous operation\n",
    "T[1, :] += T[0, :]*2 # Add 2*R_1 to Row 2\n",
    "mat_print(T, 'T_{Combined}')"
   ]
  },
  {
   "cell_type": "code",
   "execution_count": 33,
   "metadata": {},
   "outputs": [
    {
     "data": {
      "image/png": "[encoded data removed]"
     },
     "output_type": "display_data",
     "metadata": {}
    }
   ],
   "source": [
    "# The determinant of the combined matrix, as you can see, it is the same as the original\n",
    "sympy.factor(determinant_any(T))"
   ]
  },
  {
   "cell_type": "code",
   "execution_count": 34,
   "metadata": {},
   "outputs": [
    {
     "data": {
      "image/png": "[encoded data removed]"
     },
     "output_type": "display_data",
     "metadata": {}
    }
   ],
   "source": [
    "# Here we create a matrix where the entire bottom row is 0s\n",
    "Z = matrix([symbol('a_{11} a_{12} a_{13}'), \n",
    "            symbol('a_{21} a_{22} a_{23}'), \n",
    "            [0,0,0]])\n",
    "mat_print(Z, 'Z')"
   ]
  },
  {
   "cell_type": "code",
   "execution_count": 35,
   "metadata": {},
   "outputs": [
    {
     "data": {
      "image/png": "[encoded data removed]"
     },
     "output_type": "display_data",
     "metadata": {}
    }
   ],
   "source": [
    "determinant_any(Z) # Since an entire row or column is 0, the determinant is 0."
   ]
  },
  {
   "cell_type": "code",
   "execution_count": 36,
   "metadata": {},
   "outputs": [
    {
     "data": {
      "image/png": "[encoded data removed]"
     },
     "output_type": "display_data",
     "metadata": {}
    }
   ],
   "source": [
    "# Here we create a matrix where the 2nd and 4th rows are identical\n",
    "S = matrix([symbol('a_{11} a_{12} a_{13} a_{14}'),\n",
    "            symbol('x y z w'),\n",
    "            symbol('a_{31} a_{32} a_{33} a_{34}'),\n",
    "            symbol('x y z w')])\n",
    "mat_print(S, 'S')"
   ]
  },
  {
   "cell_type": "code",
   "execution_count": 37,
   "metadata": {},
   "outputs": [
    {
     "data": {
      "image/png": "[encoded data removed]"
     },
     "output_type": "display_data",
     "metadata": {}
    }
   ],
   "source": [
    "determinant_any(S) # As you can see, the determinant is 0"
   ]
  },
  {
   "cell_type": "code",
   "execution_count": 38,
   "metadata": {},
   "outputs": [
    {
     "data": {
      "image/png": "[encoded data removed]"
     },
     "output_type": "display_data",
     "metadata": {}
    }
   ],
   "source": [
    "# A general 4x4 lower diagonal matrix\n",
    "F = sympy.Matrix([[symbol('a_{11}'), symbol('a_{12}'), symbol('a_{13}'), symbol('a_{14}')], \n",
    "                  [0, symbol('a_{22}'), symbol('a_{23}'), symbol('a_{24}')],\n",
    "                  [0, 0, symbol('a_{33}'), symbol('a_{34}')],\n",
    "                  [0, 0, 0, symbol('a_{44}')]])\n",
    "mat_print(F, 'F')"
   ]
  },
  {
   "cell_type": "code",
   "execution_count": 39,
   "metadata": {},
   "outputs": [
    {
     "data": {
      "image/png": "[encoded data removed]"
     },
     "output_type": "display_data",
     "metadata": {}
    }
   ],
   "source": [
    "determinant_any(F) # The detminant is just the product of the diagonal terms"
   ]
  },
  {
   "cell_type": "code",
   "execution_count": 40,
   "metadata": {},
   "outputs": [
    {
     "data": {
      "image/png": "[encoded data removed]"
     },
     "output_type": "display_data",
     "metadata": {}
    }
   ],
   "source": [
    "# A general 4x4 reverse lower diagonal matrix\n",
    "F_R = sympy.Matrix([[symbol('a_{11}'), symbol('a_{12}'), symbol('a_{13}'), symbol('a_{14}')], \n",
    "                  [symbol('a_{21}'), symbol('a_{22}'), symbol('a_{23}'), 0],\n",
    "                  [symbol('a_{31}'), symbol('a_{32}'), 0, 0],\n",
    "                  [symbol('a_{41}'), 0, 0, 0]])\n",
    "mat_print(F_R, 'F_R')"
   ]
  },
  {
   "cell_type": "code",
   "execution_count": 41,
   "metadata": {},
   "outputs": [
    {
     "data": {
      "image/png": "[encoded data removed]"
     },
     "output_type": "display_data",
     "metadata": {}
    }
   ],
   "source": [
    "determinant_any(F_R)# Since 4x4 is divisible by 4, the determinant is the positive product of the diagonal"
   ]
  },
  {
   "cell_type": "code",
   "execution_count": 42,
   "metadata": {},
   "outputs": [
    {
     "data": {
      "image/png": "[encoded data removed]"
     },
     "output_type": "display_data",
     "metadata": {}
    }
   ],
   "source": [
    "T_R = matrix([[symbol('a_{11}'), symbol('a_{12}'), symbol('a_{13}')], \n",
    "            [symbol('a_{21}'), symbol('a_{22}'), 0], \n",
    "            [symbol('a_{31}'), 0, 0]])\n",
    "mat_print(T_R, 'T_R')"
   ]
  },
  {
   "cell_type": "code",
   "execution_count": 43,
   "metadata": {},
   "outputs": [
    {
     "data": {
      "image/png": "[encoded data removed]"
     },
     "output_type": "display_data",
     "metadata": {}
    }
   ],
   "source": [
    "determinant_any(T_R) # 3 is not divisble by 4, so the determinant is the negative product of the diagonal"
   ]
  },
  {
   "cell_type": "markdown",
   "metadata": {},
   "source": [
    "## Using Determinants to Find Inverses"
   ]
  },
  {
   "cell_type": "markdown",
   "metadata": {},
   "source": [
    "### The Adjoint of a Matrix\n",
    "\n",
    "The adjoint of a matrix is the transposition of an array of the determinants of the minor matricies.\n",
    "\n",
    "For a 4x4 matrix, the adjoint is defined as the following:\n",
    "\n",
    "$$adj(A) = \\begin{bmatrix}\n",
    "C_{11} & C_{21} & C_{31} & C_{41}\\\\ \n",
    "C_{12} & C_{22} & C_{32} & C_{42}\\\\ \n",
    "C_{13} & C_{23} & C_{33} & C_{43}\\\\ \n",
    "C_{14} & C_{24} & C_{34} & C_{44}\n",
    "\\end{bmatrix}$$"
   ]
  },
  {
   "cell_type": "code",
   "execution_count": 44,
   "metadata": {},
   "outputs": [],
   "source": [
    "def matrix_adjoint(m):\n",
    "    n_dim = m.shape[0]\n",
    "    minors = [find_minor_matricies(m, False, row+1)[:, 2]*find_minor_matricies(m, False, row+1)[:, 0] \n",
    "              for row in xrange(n_dim)]\n",
    "    minor_det = matrix([[determinant_any(minor) for minor in min_set] for min_set in minors])\n",
    "    return minor_det.transpose()"
   ]
  },
  {
   "cell_type": "code",
   "execution_count": 45,
   "metadata": {},
   "outputs": [
    {
     "data": {
      "image/png": "[encoded data removed]"
     },
     "output_type": "display_data",
     "metadata": {}
    }
   ],
   "source": [
    "A = matrix([[3, -3, -1, 7], \n",
    "            [7, -6, -3, 14],\n",
    "            [5, -4, -2, 9],\n",
    "            [-5, 5, 2, -11]])\n",
    "mat_print(A, 'A')"
   ]
  },
  {
   "cell_type": "code",
   "execution_count": 46,
   "metadata": {},
   "outputs": [
    {
     "data": {
      "image/png": "[encoded data removed]"
     },
     "output_type": "display_data",
     "metadata": {}
    }
   ],
   "source": [
    "mat_print(matrix_adjoint(A), 'A_{Adjoint}')"
   ]
  },
  {
   "cell_type": "code",
   "execution_count": 47,
   "metadata": {},
   "outputs": [
    {
     "data": {
      "image/png": "[encoded data removed]"
     },
     "output_type": "display_data",
     "metadata": {}
    }
   ],
   "source": [
    "# A general 3x3 matrix\n",
    "T = matrix([symbol('a_{11} a_{12} a_{13}'), \n",
    "            symbol('a_{21} a_{22} a_{23}'), \n",
    "            symbol('a_{31} a_{32} a_{33}')])\n",
    "mat_print(T, 'T')"
   ]
  },
  {
   "cell_type": "code",
   "execution_count": 48,
   "metadata": {},
   "outputs": [
    {
     "data": {
      "image/png": "[encoded data removed]"
     },
     "output_type": "display_data",
     "metadata": {}
    }
   ],
   "source": [
    "mat_print(matrix_adjoint(T), 'T_{Adjoint}')"
   ]
  },
  {
   "cell_type": "markdown",
   "metadata": {},
   "source": [
    "### Defining the Inverse of a Matrix in Terms of Determinant\n",
    "\n",
    "The invers of a square matrix A $(A^{-1})$ can be defined in terms of the adjoint of matrix A and the determininat of matrix A:\n",
    "\n",
    "$$A^{-1} = \\frac{adj(A)}{\\left |A  \\right |}$$\n",
    "\n",
    "Therefore, in order for the inverse of a square matrix to exist, the determinant of A **must not be 0**."
   ]
  },
  {
   "cell_type": "code",
   "execution_count": 49,
   "metadata": {},
   "outputs": [
    {
     "data": {
      "image/png": "[encoded data removed]"
     },
     "output_type": "display_data",
     "metadata": {}
    }
   ],
   "source": [
    "mat_print(matrix_adjoint(A) / determinant_any(A), 'A^{-1}')"
   ]
  },
  {
   "cell_type": "markdown",
   "metadata": {},
   "source": [
    "## Cramer's Rule"
   ]
  },
  {
   "cell_type": "markdown",
   "metadata": {},
   "source": [
    "We can use determinants and Cramers Rule in order to find solutions to linear systems of equations. Take, for example, the given system:\n",
    "\n",
    "$$\\left\\{\\begin{matrix}2x-3y+z = 11\n",
    "\\\\ x+4y-3z = -3\n",
    "\\\\ 4x - 5y + 3z = 19\n",
    "\\end{matrix}\\right.$$\n",
    "\n",
    "$$A = \\begin{bmatrix}\n",
    "2 & -3 & 1\\\\ \n",
    "1 & 4 & -2\\\\ \n",
    "4 & -5 & 3\n",
    "\\end{bmatrix} , x = \\begin{bmatrix}x\n",
    "\\\\ y\n",
    "\\\\ z\n",
    "\\end{bmatrix} , b = \\begin{bmatrix}11\n",
    "\\\\ -3\n",
    "\\\\ 19\n",
    "\\end{bmatrix}$$\n",
    "\n",
    "We can then split matrix A into 3 extra matricies by substituting one of the columns in A with b, this represents the matrix for the variable that column represented.\n",
    "\n",
    "$$A_x = \\begin{bmatrix}\n",
    "11 & -3 & 1\\\\ \n",
    "-3 & 4 & -2\\\\ \n",
    "19 & -5 & 3\n",
    "\\end{bmatrix}\\\\ A_y = \\begin{bmatrix}\n",
    "2 & 11 & 1\\\\ \n",
    "1 & -3 & -2\\\\ \n",
    "4 & 19 & 3\n",
    "\\end{bmatrix}\\\\ A_z = \\begin{bmatrix}\n",
    "2 & -3 & 11\\\\ \n",
    "1 & 4 & -3\\\\ \n",
    "4 & -5 & 19\n",
    "\\end{bmatrix}$$\n",
    "\n",
    "We can use Cramer's rule to determine the value of each variable:\n",
    "\n",
    "$$x = \\frac{\\left |A_x  \\right |}{\\left |A  \\right |}, \n",
    "y = \\frac{\\left |A_y  \\right |}{\\left |A  \\right |}, \n",
    "z = \\frac{\\left |A_z  \\right |}{\\left |A  \\right |}$$"
   ]
  },
  {
   "cell_type": "code",
   "execution_count": 50,
   "metadata": {},
   "outputs": [],
   "source": [
    "def solve_cramers_rule(m, b):\n",
    "    n_var = m.shape[1]\n",
    "    var_matricies = [copy(m) for i in xrange(n_var)]\n",
    "    for i in xrange(n_var):\n",
    "        var_matricies[i][:, i] = b\n",
    "    det = determinant_any(m)\n",
    "    return array([determinant_any(var_matrix) / det for var_matrix in var_matricies])"
   ]
  },
  {
   "cell_type": "code",
   "execution_count": 51,
   "metadata": {},
   "outputs": [
    {
     "data": {
      "image/png": "[encoded data removed]"
     },
     "output_type": "display_data",
     "metadata": {}
    }
   ],
   "source": [
    "A = matrix([[2, -3, 1],\n",
    "           [1, 4, -2],\n",
    "           [4, -5, 3]])\n",
    "mat_print(A, 'A')"
   ]
  },
  {
   "cell_type": "code",
   "execution_count": 52,
   "metadata": {},
   "outputs": [
    {
     "data": {
      "image/png": "[encoded data removed]"
     },
     "output_type": "display_data",
     "metadata": {}
    }
   ],
   "source": [
    "b = array([11, -3, 19])\n",
    "mat_print(vstack(b), 'b')"
   ]
  },
  {
   "cell_type": "code",
   "execution_count": 53,
   "metadata": {},
   "outputs": [
    {
     "data": {
      "text/plain": [
       "array([ 3., -2., -1.])"
      ]
     },
     "execution_count": 53,
     "output_type": "execute_result",
     "metadata": {}
    }
   ],
   "source": [
    "solve_cramers_rule(A, b)"
   ]
  }
 ],
 "metadata": {
  "kernelspec": {
   "display_name": "Python 2",
   "language": "python",
   "name": "python2"
  },
  "language_info": {
   "codemirror_mode": {
    "name": "ipython",
    "version": 2.0
   },
   "file_extension": ".py",
   "mimetype": "text/x-python",
   "name": "python",
   "nbconvert_exporter": "python",
   "pygments_lexer": "ipython2",
   "version": "2.7.9"
  }
 },
 "nbformat": 4,
 "nbformat_minor": 0
}